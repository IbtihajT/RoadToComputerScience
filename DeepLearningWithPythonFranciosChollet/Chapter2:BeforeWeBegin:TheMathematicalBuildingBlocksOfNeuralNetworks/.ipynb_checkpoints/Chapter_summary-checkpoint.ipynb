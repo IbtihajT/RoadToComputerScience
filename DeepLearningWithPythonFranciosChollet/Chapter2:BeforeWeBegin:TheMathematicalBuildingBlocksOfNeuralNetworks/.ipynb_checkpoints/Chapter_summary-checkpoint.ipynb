{
 "cells": [
  {
   "cell_type": "markdown",
   "metadata": {},
   "source": [
    "### Chapter summary"
   ]
  },
  {
   "cell_type": "markdown",
   "metadata": {},
   "source": [
    "- *Learning* means finding a combination of model parameters that minimizes a loss function for a given set of training data samples and their correponding targets.\n",
    "- Learning happens by drawing random batches of data samples and their targets, and computing the gradient of the network parameters with respect to the loss on the batch. The network parameters are then moved a bit (the magnitude of the move is defined by the learning rate) in the opposite direction from the gradient.\n",
    "- The entire learning process is made possible by the fact that neural networks are chains of differentiable tensor operations, and thus it's possible to apply the chain rule of derivation to find the gradient function mapping the current parameters and current batch of data to a gradient value.\n",
    "- Two key concepts you'll see frequently in future chapters are `loss` and `optimizers`. These are the two things you need to define before you begin feeding data into a network\n",
    "- The `loss` is the qunatity you'll attempt to minimize during training, so it should represent a measure of success for the task you're trying to solve.\n",
    "- The `optimizer` specifies the exact way in which the gradient of the loss will be used to update parameters: for instance, it could be the RMSProp optimizer, SGD with momentum, and so on."
   ]
  },
  {
   "cell_type": "code",
   "execution_count": null,
   "metadata": {},
   "outputs": [],
   "source": []
  }
 ],
 "metadata": {
  "kernelspec": {
   "display_name": "Python 3",
   "language": "python",
   "name": "python3"
  },
  "language_info": {
   "codemirror_mode": {
    "name": "ipython",
    "version": 3
   },
   "file_extension": ".py",
   "mimetype": "text/x-python",
   "name": "python",
   "nbconvert_exporter": "python",
   "pygments_lexer": "ipython3",
   "version": "3.7.5"
  }
 },
 "nbformat": 4,
 "nbformat_minor": 2
}
