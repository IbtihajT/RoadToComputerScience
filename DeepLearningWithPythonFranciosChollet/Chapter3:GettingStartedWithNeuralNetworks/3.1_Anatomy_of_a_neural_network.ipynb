{
 "cells": [
  {
   "cell_type": "markdown",
   "metadata": {},
   "source": [
    "### 3.1 Anatomey of a neural network"
   ]
  },
  {
   "cell_type": "markdown",
   "metadata": {},
   "source": [
    "As you just saw in the previous chapters, training a neural network revolves around the following objects:\n",
    "\n",
    "- *Layers*, which are combined into a network (or *model*)\n",
    "- The *input data* and corresponding *targets*\n",
    "- The *loss function*, which defines the feedback signal used for learning\n",
    "- The *optimizer*, which determines how learning proceeds\n",
    "\n",
    "You can visualize their interaction as illustrated in figure: the network, composed of layers that are chained together, amps the input data to predictions. The loss function then compares these predicions to the tarets, producing a loss value: a measure of how well the network's predictions match what was expected. The optimizer uses this loss value to update the network's weights.\n",
    "\n",
    "<img src=\"./Images/relationship.png\" alt=\"Relationship Between the network, layers, loss function and optimizer\" title=\"Relationship Between the network, layers, loss function and optimizer\" />\n",
    "\n",
    "Let's take a closer look at layers, networks, loss functions, and optimizers."
   ]
  },
  {
   "cell_type": "markdown",
   "metadata": {},
   "source": [
    "#### 3.1.1 Layers: the building blocks of deep learning"
   ]
  },
  {
   "cell_type": "markdown",
   "metadata": {},
   "source": [
    "The fundamental data structure in neural networks is the "
   ]
  }
 ],
 "metadata": {
  "kernelspec": {
   "display_name": "Python 3",
   "language": "python",
   "name": "python3"
  },
  "language_info": {
   "codemirror_mode": {
    "name": "ipython",
    "version": 3
   },
   "file_extension": ".py",
   "mimetype": "text/x-python",
   "name": "python",
   "nbconvert_exporter": "python",
   "pygments_lexer": "ipython3",
   "version": "3.7.5"
  }
 },
 "nbformat": 4,
 "nbformat_minor": 2
}
